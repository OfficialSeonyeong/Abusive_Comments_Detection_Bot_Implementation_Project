{
 "cells": [
  {
   "cell_type": "code",
   "execution_count": 1,
   "metadata": {},
   "outputs": [],
   "source": [
    "import pandas as pd"
   ]
  },
  {
   "cell_type": "code",
   "execution_count": 2,
   "metadata": {},
   "outputs": [
    {
     "data": {
      "text/html": [
       "<div>\n",
       "<style scoped>\n",
       "    .dataframe tbody tr th:only-of-type {\n",
       "        vertical-align: middle;\n",
       "    }\n",
       "\n",
       "    .dataframe tbody tr th {\n",
       "        vertical-align: top;\n",
       "    }\n",
       "\n",
       "    .dataframe thead th {\n",
       "        text-align: right;\n",
       "    }\n",
       "</style>\n",
       "<table border=\"1\" class=\"dataframe\">\n",
       "  <thead>\n",
       "    <tr style=\"text-align: right;\">\n",
       "      <th></th>\n",
       "      <th>Unnamed: 0</th>\n",
       "      <th>댓글</th>\n",
       "      <th>악플여부</th>\n",
       "      <th>출처</th>\n",
       "    </tr>\n",
       "  </thead>\n",
       "  <tbody>\n",
       "    <tr>\n",
       "      <th>0</th>\n",
       "      <td>11</td>\n",
       "      <td>U2</td>\n",
       "      <td>0.0</td>\n",
       "      <td>./data\\문재인.csv</td>\n",
       "    </tr>\n",
       "    <tr>\n",
       "      <th>1</th>\n",
       "      <td>12</td>\n",
       "      <td>2기</td>\n",
       "      <td>0.0</td>\n",
       "      <td>./data\\김계란.csv</td>\n",
       "    </tr>\n",
       "    <tr>\n",
       "      <th>2</th>\n",
       "      <td>13</td>\n",
       "      <td>5빵</td>\n",
       "      <td>0.0</td>\n",
       "      <td>./data\\문재인.csv</td>\n",
       "    </tr>\n",
       "    <tr>\n",
       "      <th>3</th>\n",
       "      <td>14</td>\n",
       "      <td>2등</td>\n",
       "      <td>0.0</td>\n",
       "      <td>./data\\김계란.csv</td>\n",
       "    </tr>\n",
       "    <tr>\n",
       "      <th>4</th>\n",
       "      <td>15</td>\n",
       "      <td>1둥</td>\n",
       "      <td>0.0</td>\n",
       "      <td>./data\\김계란.csv</td>\n",
       "    </tr>\n",
       "    <tr>\n",
       "      <th>...</th>\n",
       "      <td>...</td>\n",
       "      <td>...</td>\n",
       "      <td>...</td>\n",
       "      <td>...</td>\n",
       "    </tr>\n",
       "    <tr>\n",
       "      <th>89859</th>\n",
       "      <td>8578</td>\n",
       "      <td>진짜 ㅋㅋㅋ 댓글 지우는거 보소참 성격 병신 맞가</td>\n",
       "      <td>2.0</td>\n",
       "      <td>./data\\함소원.csv</td>\n",
       "    </tr>\n",
       "    <tr>\n",
       "      <th>89860</th>\n",
       "      <td>8579</td>\n",
       "      <td>진짜 대박이다언니힘내세요그냥이럴때 공인이고 모고 다 뒤로하시고 사이다 날려요저런애들...</td>\n",
       "      <td>1.0</td>\n",
       "      <td>./data\\함소원.csv</td>\n",
       "    </tr>\n",
       "    <tr>\n",
       "      <th>89861</th>\n",
       "      <td>8580</td>\n",
       "      <td>올바른길이란게 정해지지않는듯오빠가 열심히하시고 즐겁게 시간보내는것이 오빠만의 길인듯...</td>\n",
       "      <td>0.0</td>\n",
       "      <td>./data\\홍석천.csv</td>\n",
       "    </tr>\n",
       "    <tr>\n",
       "      <th>89862</th>\n",
       "      <td>8581</td>\n",
       "      <td>석천오빠님사랑해요 레스토랑 한번 가본 촌년이지만행복한 기억이였고늘 오빠가 잘 되길 ...</td>\n",
       "      <td>0.0</td>\n",
       "      <td>./data\\홍석천.csv</td>\n",
       "    </tr>\n",
       "    <tr>\n",
       "      <th>89863</th>\n",
       "      <td>8582</td>\n",
       "      <td>오빠가 더 행복하세요</td>\n",
       "      <td>0.0</td>\n",
       "      <td>./data\\홍석천.csv</td>\n",
       "    </tr>\n",
       "  </tbody>\n",
       "</table>\n",
       "<p>89864 rows × 4 columns</p>\n",
       "</div>"
      ],
      "text/plain": [
       "       Unnamed: 0                                                 댓글  악플여부  \\\n",
       "0              11                                                 U2   0.0   \n",
       "1              12                                                 2기   0.0   \n",
       "2              13                                                 5빵   0.0   \n",
       "3              14                                                 2등   0.0   \n",
       "4              15                                                 1둥   0.0   \n",
       "...           ...                                                ...   ...   \n",
       "89859        8578                        진짜 ㅋㅋㅋ 댓글 지우는거 보소참 성격 병신 맞가   2.0   \n",
       "89860        8579  진짜 대박이다언니힘내세요그냥이럴때 공인이고 모고 다 뒤로하시고 사이다 날려요저런애들...   1.0   \n",
       "89861        8580  올바른길이란게 정해지지않는듯오빠가 열심히하시고 즐겁게 시간보내는것이 오빠만의 길인듯...   0.0   \n",
       "89862        8581  석천오빠님사랑해요 레스토랑 한번 가본 촌년이지만행복한 기억이였고늘 오빠가 잘 되길 ...   0.0   \n",
       "89863        8582                                        오빠가 더 행복하세요   0.0   \n",
       "\n",
       "                   출처  \n",
       "0      ./data\\문재인.csv  \n",
       "1      ./data\\김계란.csv  \n",
       "2      ./data\\문재인.csv  \n",
       "3      ./data\\김계란.csv  \n",
       "4      ./data\\김계란.csv  \n",
       "...               ...  \n",
       "89859  ./data\\함소원.csv  \n",
       "89860  ./data\\함소원.csv  \n",
       "89861  ./data\\홍석천.csv  \n",
       "89862  ./data\\홍석천.csv  \n",
       "89863  ./data\\홍석천.csv  \n",
       "\n",
       "[89864 rows x 4 columns]"
      ]
     },
     "execution_count": 2,
     "metadata": {},
     "output_type": "execute_result"
    }
   ],
   "source": [
    "comment_data = pd.read_csv('C:/Users/A/Downloads/[final_project]_악플원정대/raw_data/comment_data.csv')\n",
    "comment_data"
   ]
  },
  {
   "cell_type": "code",
   "execution_count": 3,
   "metadata": {},
   "outputs": [
    {
     "data": {
      "text/plain": [
       "89864"
      ]
     },
     "execution_count": 3,
     "metadata": {},
     "output_type": "execute_result"
    }
   ],
   "source": [
    "len(comment_data)"
   ]
  }
 ],
 "metadata": {
  "kernelspec": {
   "display_name": "Python 3",
   "language": "python",
   "name": "python3"
  },
  "language_info": {
   "codemirror_mode": {
    "name": "ipython",
    "version": 3
   },
   "file_extension": ".py",
   "mimetype": "text/x-python",
   "name": "python",
   "nbconvert_exporter": "python",
   "pygments_lexer": "ipython3",
   "version": "3.7.6"
  }
 },
 "nbformat": 4,
 "nbformat_minor": 4
}
