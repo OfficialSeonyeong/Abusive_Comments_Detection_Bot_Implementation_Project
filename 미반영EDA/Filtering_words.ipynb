{
 "cells": [
  {
   "cell_type": "code",
   "execution_count": 1,
   "metadata": {},
   "outputs": [],
   "source": [
    "import pandas as pd"
   ]
  },
  {
   "cell_type": "markdown",
   "metadata": {},
   "source": [
    "### 필터링단어(논문)"
   ]
  },
  {
   "cell_type": "code",
   "execution_count": 2,
   "metadata": {},
   "outputs": [
    {
     "data": {
      "text/html": [
       "<div>\n",
       "<style scoped>\n",
       "    .dataframe tbody tr th:only-of-type {\n",
       "        vertical-align: middle;\n",
       "    }\n",
       "\n",
       "    .dataframe tbody tr th {\n",
       "        vertical-align: top;\n",
       "    }\n",
       "\n",
       "    .dataframe thead th {\n",
       "        text-align: right;\n",
       "    }\n",
       "</style>\n",
       "<table border=\"1\" class=\"dataframe\">\n",
       "  <thead>\n",
       "    <tr style=\"text-align: right;\">\n",
       "      <th></th>\n",
       "      <th>욕설(2)</th>\n",
       "      <th>저속한표현(2)</th>\n",
       "      <th>선정적인표현(2)</th>\n",
       "      <th>폭력적인표현(2)</th>\n",
       "      <th>차별적인표현(2)</th>\n",
       "      <th>특정세대비하표현(2)</th>\n",
       "      <th>남녀비하표현(2)</th>\n",
       "      <th>지역비하표현(2)</th>\n",
       "      <th>국가인종비하표현(2)</th>\n",
       "      <th>종교비하표현(2)</th>\n",
       "      <th>비하적인표현(2)</th>\n",
       "    </tr>\n",
       "  </thead>\n",
       "  <tbody>\n",
       "    <tr>\n",
       "      <th>0</th>\n",
       "      <td>스벌, 시퐁할, 쒸팍, ㅆ1파, 씨팔, 씨발, 개씨팔, 18넘, 이 쉑휘들, 씨발 ...</td>\n",
       "      <td>애미후리다, 콩가루 집안 새끼, 대갈통, 대갈빡, 쌍판떄기, 애미애비도 없는 놈, ...</td>\n",
       "      <td>좆나, 좆까, 개좆같은, 좆나게, 좆같다, 좆, 빨통, 젖탱이, 씹질, 좆박다, 좆...</td>\n",
       "      <td>육시럴, 할복해, 몽둥이가 약이겠네, 미친년 그냥 죽어라, 디지세요</td>\n",
       "      <td>옘병, 질알, 개질헐, 지롤, 염병지랄떈스, 개지랄, 사팔뜨기, 빙쉰, 뷰웅시나, ...</td>\n",
       "      <td>간나새끼, 늙다리 놈, 애새끼</td>\n",
       "      <td>재기해, 된장녀, 화냥년, 갈보, 양갈보, 불여우 같은 년</td>\n",
       "      <td>쌍도놈들</td>\n",
       "      <td>좆선, 짱깨, 양키, 깜둥이, 코쟁이, 오랑캐</td>\n",
       "      <td>개dog, 개독, 땡중, 까까중, 무당년</td>\n",
       "      <td>무뇌아, 빠가새끼, 노름꾼 새끼, 입주둥이를 찢어 버릴 놈, 경칠놈, 경칠 놈, 개...</td>\n",
       "    </tr>\n",
       "  </tbody>\n",
       "</table>\n",
       "</div>"
      ],
      "text/plain": [
       "                                               욕설(2)  \\\n",
       "0  스벌, 시퐁할, 쒸팍, ㅆ1파, 씨팔, 씨발, 개씨팔, 18넘, 이 쉑휘들, 씨발 ...   \n",
       "\n",
       "                                            저속한표현(2)  \\\n",
       "0  애미후리다, 콩가루 집안 새끼, 대갈통, 대갈빡, 쌍판떄기, 애미애비도 없는 놈, ...   \n",
       "\n",
       "                                           선정적인표현(2)  \\\n",
       "0  좆나, 좆까, 개좆같은, 좆나게, 좆같다, 좆, 빨통, 젖탱이, 씹질, 좆박다, 좆...   \n",
       "\n",
       "                               폭력적인표현(2)  \\\n",
       "0  육시럴, 할복해, 몽둥이가 약이겠네, 미친년 그냥 죽어라, 디지세요   \n",
       "\n",
       "                                           차별적인표현(2)       특정세대비하표현(2)  \\\n",
       "0  옘병, 질알, 개질헐, 지롤, 염병지랄떈스, 개지랄, 사팔뜨기, 빙쉰, 뷰웅시나, ...  간나새끼, 늙다리 놈, 애새끼   \n",
       "\n",
       "                          남녀비하표현(2) 지역비하표현(2)                국가인종비하표현(2)  \\\n",
       "0  재기해, 된장녀, 화냥년, 갈보, 양갈보, 불여우 같은 년      쌍도놈들  좆선, 짱깨, 양키, 깜둥이, 코쟁이, 오랑캐   \n",
       "\n",
       "                종교비하표현(2)                                          비하적인표현(2)  \n",
       "0  개dog, 개독, 땡중, 까까중, 무당년  무뇌아, 빠가새끼, 노름꾼 새끼, 입주둥이를 찢어 버릴 놈, 경칠놈, 경칠 놈, 개...  "
      ]
     },
     "execution_count": 2,
     "metadata": {},
     "output_type": "execute_result"
    }
   ],
   "source": [
    "filtering_words_01 = pd.read_excel('C:/Users/A/Downloads/필터링단어(논문).xlsx')\n",
    "filtering_words_01"
   ]
  },
  {
   "cell_type": "code",
   "execution_count": 21,
   "metadata": {},
   "outputs": [
    {
     "name": "stdout",
     "output_type": "stream",
     "text": [
      "110\n"
     ]
    }
   ],
   "source": [
    "# 전체 단어 갯수 구하기\n",
    "\n",
    "total_01 = 0\n",
    "\n",
    "for i in range(len(filtering_words_01.iloc[0])-1):\n",
    "    words = filtering_words_01.iloc[0,i]\n",
    "    words_list = words.split(',')\n",
    "    total_01 += len(words_list)\n",
    "    \n",
    "print(total_01)\n",
    "    "
   ]
  },
  {
   "cell_type": "markdown",
   "metadata": {},
   "source": [
    "  "
   ]
  },
  {
   "cell_type": "markdown",
   "metadata": {},
   "source": [
    "### 필터링단어(나무위키)"
   ]
  },
  {
   "cell_type": "code",
   "execution_count": 20,
   "metadata": {},
   "outputs": [
    {
     "data": {
      "text/html": [
       "<div>\n",
       "<style scoped>\n",
       "    .dataframe tbody tr th:only-of-type {\n",
       "        vertical-align: middle;\n",
       "    }\n",
       "\n",
       "    .dataframe tbody tr th {\n",
       "        vertical-align: top;\n",
       "    }\n",
       "\n",
       "    .dataframe thead th {\n",
       "        text-align: right;\n",
       "    }\n",
       "</style>\n",
       "<table border=\"1\" class=\"dataframe\">\n",
       "  <thead>\n",
       "    <tr style=\"text-align: right;\">\n",
       "      <th></th>\n",
       "      <th>성희롱(2)</th>\n",
       "      <th>패륜(2)</th>\n",
       "      <th>장애인 비하(2)</th>\n",
       "      <th>성소수자 비하(2)</th>\n",
       "      <th>욕설(2)</th>\n",
       "      <th>자살 관련(2)</th>\n",
       "      <th>특정 세대, 남녀 비하(2)</th>\n",
       "      <th>남녀 비하(2)</th>\n",
       "      <th>지역 비하(2)</th>\n",
       "      <th>정치 진영, 지역 비하(2)</th>\n",
       "      <th>국가, 인종 비하(2)</th>\n",
       "      <th>종교인 비하(2)</th>\n",
       "      <th>기타(2)</th>\n",
       "    </tr>\n",
       "  </thead>\n",
       "  <tbody>\n",
       "    <tr>\n",
       "      <th>0</th>\n",
       "      <td>개좆, 좆집, 좆물받이, 좆물, 좆같, 좆까, 좆나, 좆망, 좆밥, 좆만, 좆대가리...</td>\n",
       "      <td>니애미, 너검마, 니애비, 맘충, 애비충, 애미 뒤진 년, 애비 뒤진 년, 애미뒤진...</td>\n",
       "      <td>지랄, 옘병, 병신, 정신병자, 장애인새끼, 병신따까리, 저능아, 정박아</td>\n",
       "      <td>똥꼬충, 후장충, 게이새끼, 게이놈, 레즈년, 레즈련, 호모새끼, 호모 새끼</td>\n",
       "      <td>씨팔련, 씨팔년, 씨팔새끼, 씨팔놈, 씨방새, 씨방놈, 씨방년, 씨방짭새, 씨발놈,...</td>\n",
       "      <td>뒤져라, 죽어라, 자살해라, 디져라, 나가뒤져, 나가죽어, 운지해, 뒈져라, 나가 ...</td>\n",
       "      <td>틀니딱딱충, 급식충, 급식게이, 틀딱, 씹꼰대</td>\n",
       "      <td>메갈년, 메갈련, 피싸개, 한남충, 한녀충, 김치년, 씹치남, 씹치녀, 폐녀자, 잡...</td>\n",
       "      <td>경상도 통구이, 경상도통구이, 대구통구이, 대구 통구이, 피떡갈비, 홍로코스트</td>\n",
       "      <td>전라디언, 대깨문, 빨갱이, 전라민국, 개상도, 개쌍도, 절라디언, 멍청도, 개쌍디...</td>\n",
       "      <td>김치녀, 짱깨, 쪽빠리, 쪽발이, 쪽바리, 양놈, 코쟁이, 흑형, 흑언니, 되놈, ...</td>\n",
       "      <td>중놈, 땡중, 땡추, 먹사</td>\n",
       "      <td>찐따, 개초딩, 그지깽깽이, 꼴통, 연놈, 따까리, 또라이, 똘마니, 떨거지, 똘추...</td>\n",
       "    </tr>\n",
       "  </tbody>\n",
       "</table>\n",
       "</div>"
      ],
      "text/plain": [
       "                                              성희롱(2)  \\\n",
       "0  개좆, 좆집, 좆물받이, 좆물, 좆같, 좆까, 좆나, 좆망, 좆밥, 좆만, 좆대가리...   \n",
       "\n",
       "                                               패륜(2)  \\\n",
       "0  니애미, 너검마, 니애비, 맘충, 애비충, 애미 뒤진 년, 애비 뒤진 년, 애미뒤진...   \n",
       "\n",
       "                                  장애인 비하(2)  \\\n",
       "0  지랄, 옘병, 병신, 정신병자, 장애인새끼, 병신따까리, 저능아, 정박아   \n",
       "\n",
       "                                   성소수자 비하(2)  \\\n",
       "0  똥꼬충, 후장충, 게이새끼, 게이놈, 레즈년, 레즈련, 호모새끼, 호모 새끼   \n",
       "\n",
       "                                               욕설(2)  \\\n",
       "0  씨팔련, 씨팔년, 씨팔새끼, 씨팔놈, 씨방새, 씨방놈, 씨방년, 씨방짭새, 씨발놈,...   \n",
       "\n",
       "                                            자살 관련(2)  \\\n",
       "0  뒤져라, 죽어라, 자살해라, 디져라, 나가뒤져, 나가죽어, 운지해, 뒈져라, 나가 ...   \n",
       "\n",
       "             특정 세대, 남녀 비하(2)  \\\n",
       "0  틀니딱딱충, 급식충, 급식게이, 틀딱, 씹꼰대   \n",
       "\n",
       "                                            남녀 비하(2)  \\\n",
       "0  메갈년, 메갈련, 피싸개, 한남충, 한녀충, 김치년, 씹치남, 씹치녀, 폐녀자, 잡...   \n",
       "\n",
       "                                      지역 비하(2)  \\\n",
       "0  경상도 통구이, 경상도통구이, 대구통구이, 대구 통구이, 피떡갈비, 홍로코스트   \n",
       "\n",
       "                                     정치 진영, 지역 비하(2)  \\\n",
       "0  전라디언, 대깨문, 빨갱이, 전라민국, 개상도, 개쌍도, 절라디언, 멍청도, 개쌍디...   \n",
       "\n",
       "                                        국가, 인종 비하(2)       종교인 비하(2)  \\\n",
       "0  김치녀, 짱깨, 쪽빠리, 쪽발이, 쪽바리, 양놈, 코쟁이, 흑형, 흑언니, 되놈, ...  중놈, 땡중, 땡추, 먹사   \n",
       "\n",
       "                                               기타(2)  \n",
       "0  찐따, 개초딩, 그지깽깽이, 꼴통, 연놈, 따까리, 또라이, 똘마니, 떨거지, 똘추...  "
      ]
     },
     "execution_count": 20,
     "metadata": {},
     "output_type": "execute_result"
    }
   ],
   "source": [
    "filtering_words_02 = pd.read_excel('C:/Users/A/Downloads/필터링단어(나무위키).xlsx')\n",
    "filtering_words_02"
   ]
  },
  {
   "cell_type": "code",
   "execution_count": 22,
   "metadata": {},
   "outputs": [
    {
     "name": "stdout",
     "output_type": "stream",
     "text": [
      "202\n"
     ]
    }
   ],
   "source": [
    "# 전체 단어 갯수 구하기\n",
    "\n",
    "total_02 = 0\n",
    "\n",
    "for i in range(len(filtering_words_02.iloc[0])-1):\n",
    "    words = filtering_words_02.iloc[0,i]\n",
    "    words_list = words.split(',')\n",
    "    total_02 += len(words_list)\n",
    "    \n",
    "print(total_02)"
   ]
  },
  {
   "cell_type": "markdown",
   "metadata": {},
   "source": [
    "## 총 갯수: 110 + 202 = 312"
   ]
  }
 ],
 "metadata": {
  "kernelspec": {
   "display_name": "Python 3",
   "language": "python",
   "name": "python3"
  },
  "language_info": {
   "codemirror_mode": {
    "name": "ipython",
    "version": 3
   },
   "file_extension": ".py",
   "mimetype": "text/x-python",
   "name": "python",
   "nbconvert_exporter": "python",
   "pygments_lexer": "ipython3",
   "version": "3.7.6"
  }
 },
 "nbformat": 4,
 "nbformat_minor": 4
}
